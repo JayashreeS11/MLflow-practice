{
 "cells": [
  {
   "cell_type": "code",
   "execution_count": 1,
   "id": "594e906e-c66c-4303-85e2-707407999893",
   "metadata": {},
   "outputs": [],
   "source": [
    "import os\n",
    "import warnings\n",
    "import sys\n",
    "\n",
    "import pandas as pd\n",
    "import numpy as np\n",
    "\n",
    "from sklearn.metrics import mean_squared_error, mean_absolute_error, r2_score\n",
    "from sklearn.model_selection import train_test_split\n",
    "from sklearn.linear_model import ElasticNet\n",
    "\n",
    "import mlflow\n",
    "import mlflow.sklearn"
   ]
  },
  {
   "cell_type": "code",
   "execution_count": 4,
   "id": "1e5da825-5f96-47a5-81e0-df015b9bcc22",
   "metadata": {},
   "outputs": [
    {
     "data": {
      "text/html": [
       "<div>\n",
       "<style scoped>\n",
       "    .dataframe tbody tr th:only-of-type {\n",
       "        vertical-align: middle;\n",
       "    }\n",
       "\n",
       "    .dataframe tbody tr th {\n",
       "        vertical-align: top;\n",
       "    }\n",
       "\n",
       "    .dataframe thead th {\n",
       "        text-align: right;\n",
       "    }\n",
       "</style>\n",
       "<table border=\"1\" class=\"dataframe\">\n",
       "  <thead>\n",
       "    <tr style=\"text-align: right;\">\n",
       "      <th></th>\n",
       "      <th>fixed acidity</th>\n",
       "      <th>volatile acidity</th>\n",
       "      <th>citric acid</th>\n",
       "      <th>residual sugar</th>\n",
       "      <th>chlorides</th>\n",
       "      <th>free sulfur dioxide</th>\n",
       "      <th>total sulfur dioxide</th>\n",
       "      <th>density</th>\n",
       "      <th>pH</th>\n",
       "      <th>sulphates</th>\n",
       "      <th>alcohol</th>\n",
       "      <th>quality</th>\n",
       "    </tr>\n",
       "  </thead>\n",
       "  <tbody>\n",
       "    <tr>\n",
       "      <th>3462</th>\n",
       "      <td>6.8</td>\n",
       "      <td>0.17</td>\n",
       "      <td>0.34</td>\n",
       "      <td>2.0</td>\n",
       "      <td>0.040</td>\n",
       "      <td>38.0</td>\n",
       "      <td>111.0</td>\n",
       "      <td>0.99000</td>\n",
       "      <td>3.24</td>\n",
       "      <td>0.45</td>\n",
       "      <td>12.900000</td>\n",
       "      <td>6</td>\n",
       "    </tr>\n",
       "    <tr>\n",
       "      <th>4141</th>\n",
       "      <td>6.8</td>\n",
       "      <td>0.28</td>\n",
       "      <td>0.29</td>\n",
       "      <td>11.9</td>\n",
       "      <td>0.052</td>\n",
       "      <td>51.0</td>\n",
       "      <td>149.0</td>\n",
       "      <td>0.99544</td>\n",
       "      <td>3.02</td>\n",
       "      <td>0.58</td>\n",
       "      <td>10.400000</td>\n",
       "      <td>6</td>\n",
       "    </tr>\n",
       "    <tr>\n",
       "      <th>2925</th>\n",
       "      <td>7.7</td>\n",
       "      <td>0.25</td>\n",
       "      <td>0.30</td>\n",
       "      <td>7.8</td>\n",
       "      <td>0.038</td>\n",
       "      <td>67.0</td>\n",
       "      <td>196.0</td>\n",
       "      <td>0.99555</td>\n",
       "      <td>3.10</td>\n",
       "      <td>0.50</td>\n",
       "      <td>10.100000</td>\n",
       "      <td>5</td>\n",
       "    </tr>\n",
       "    <tr>\n",
       "      <th>4626</th>\n",
       "      <td>6.3</td>\n",
       "      <td>0.30</td>\n",
       "      <td>0.91</td>\n",
       "      <td>8.2</td>\n",
       "      <td>0.034</td>\n",
       "      <td>50.0</td>\n",
       "      <td>199.0</td>\n",
       "      <td>0.99394</td>\n",
       "      <td>3.39</td>\n",
       "      <td>0.49</td>\n",
       "      <td>11.700000</td>\n",
       "      <td>6</td>\n",
       "    </tr>\n",
       "    <tr>\n",
       "      <th>4864</th>\n",
       "      <td>6.0</td>\n",
       "      <td>0.41</td>\n",
       "      <td>0.23</td>\n",
       "      <td>1.1</td>\n",
       "      <td>0.066</td>\n",
       "      <td>22.0</td>\n",
       "      <td>148.0</td>\n",
       "      <td>0.99266</td>\n",
       "      <td>3.30</td>\n",
       "      <td>0.47</td>\n",
       "      <td>9.633333</td>\n",
       "      <td>5</td>\n",
       "    </tr>\n",
       "    <tr>\n",
       "      <th>2142</th>\n",
       "      <td>7.5</td>\n",
       "      <td>0.26</td>\n",
       "      <td>0.52</td>\n",
       "      <td>13.2</td>\n",
       "      <td>0.047</td>\n",
       "      <td>64.0</td>\n",
       "      <td>179.0</td>\n",
       "      <td>0.99820</td>\n",
       "      <td>3.10</td>\n",
       "      <td>0.46</td>\n",
       "      <td>9.000000</td>\n",
       "      <td>5</td>\n",
       "    </tr>\n",
       "    <tr>\n",
       "      <th>13</th>\n",
       "      <td>6.6</td>\n",
       "      <td>0.16</td>\n",
       "      <td>0.40</td>\n",
       "      <td>1.5</td>\n",
       "      <td>0.044</td>\n",
       "      <td>48.0</td>\n",
       "      <td>143.0</td>\n",
       "      <td>0.99120</td>\n",
       "      <td>3.54</td>\n",
       "      <td>0.52</td>\n",
       "      <td>12.400000</td>\n",
       "      <td>7</td>\n",
       "    </tr>\n",
       "    <tr>\n",
       "      <th>3920</th>\n",
       "      <td>7.4</td>\n",
       "      <td>0.25</td>\n",
       "      <td>0.37</td>\n",
       "      <td>2.6</td>\n",
       "      <td>0.050</td>\n",
       "      <td>24.0</td>\n",
       "      <td>132.0</td>\n",
       "      <td>0.99138</td>\n",
       "      <td>3.04</td>\n",
       "      <td>0.53</td>\n",
       "      <td>11.200000</td>\n",
       "      <td>6</td>\n",
       "    </tr>\n",
       "    <tr>\n",
       "      <th>1786</th>\n",
       "      <td>7.4</td>\n",
       "      <td>0.33</td>\n",
       "      <td>0.26</td>\n",
       "      <td>2.6</td>\n",
       "      <td>0.040</td>\n",
       "      <td>29.0</td>\n",
       "      <td>115.0</td>\n",
       "      <td>0.99130</td>\n",
       "      <td>3.07</td>\n",
       "      <td>0.52</td>\n",
       "      <td>11.800000</td>\n",
       "      <td>7</td>\n",
       "    </tr>\n",
       "    <tr>\n",
       "      <th>968</th>\n",
       "      <td>6.5</td>\n",
       "      <td>0.08</td>\n",
       "      <td>0.33</td>\n",
       "      <td>1.9</td>\n",
       "      <td>0.028</td>\n",
       "      <td>23.0</td>\n",
       "      <td>93.0</td>\n",
       "      <td>0.99100</td>\n",
       "      <td>3.34</td>\n",
       "      <td>0.70</td>\n",
       "      <td>12.000000</td>\n",
       "      <td>7</td>\n",
       "    </tr>\n",
       "  </tbody>\n",
       "</table>\n",
       "</div>"
      ],
      "text/plain": [
       "      fixed acidity  volatile acidity  citric acid  residual sugar  chlorides  \\\n",
       "3462            6.8              0.17         0.34             2.0      0.040   \n",
       "4141            6.8              0.28         0.29            11.9      0.052   \n",
       "2925            7.7              0.25         0.30             7.8      0.038   \n",
       "4626            6.3              0.30         0.91             8.2      0.034   \n",
       "4864            6.0              0.41         0.23             1.1      0.066   \n",
       "2142            7.5              0.26         0.52            13.2      0.047   \n",
       "13              6.6              0.16         0.40             1.5      0.044   \n",
       "3920            7.4              0.25         0.37             2.6      0.050   \n",
       "1786            7.4              0.33         0.26             2.6      0.040   \n",
       "968             6.5              0.08         0.33             1.9      0.028   \n",
       "\n",
       "      free sulfur dioxide  total sulfur dioxide  density    pH  sulphates  \\\n",
       "3462                 38.0                 111.0  0.99000  3.24       0.45   \n",
       "4141                 51.0                 149.0  0.99544  3.02       0.58   \n",
       "2925                 67.0                 196.0  0.99555  3.10       0.50   \n",
       "4626                 50.0                 199.0  0.99394  3.39       0.49   \n",
       "4864                 22.0                 148.0  0.99266  3.30       0.47   \n",
       "2142                 64.0                 179.0  0.99820  3.10       0.46   \n",
       "13                   48.0                 143.0  0.99120  3.54       0.52   \n",
       "3920                 24.0                 132.0  0.99138  3.04       0.53   \n",
       "1786                 29.0                 115.0  0.99130  3.07       0.52   \n",
       "968                  23.0                  93.0  0.99100  3.34       0.70   \n",
       "\n",
       "        alcohol  quality  \n",
       "3462  12.900000        6  \n",
       "4141  10.400000        6  \n",
       "2925  10.100000        5  \n",
       "4626  11.700000        6  \n",
       "4864   9.633333        5  \n",
       "2142   9.000000        5  \n",
       "13    12.400000        7  \n",
       "3920  11.200000        6  \n",
       "1786  11.800000        7  \n",
       "968   12.000000        7  "
      ]
     },
     "execution_count": 4,
     "metadata": {},
     "output_type": "execute_result"
    }
   ],
   "source": [
    "data_path = \"wine-quality.csv\"\n",
    "data = pd.read_csv(data_path)\n",
    "\n",
    "data.sample(10)"
   ]
  },
  {
   "cell_type": "code",
   "execution_count": 5,
   "id": "8a920029-df55-4718-b3ad-bbbfb06d0f48",
   "metadata": {},
   "outputs": [],
   "source": [
    "# mlflow server --backend-store-uri mlruns/ --default-artifact-root mlruns/ --host 0.0.0.0 --port 5000\n",
    "remote_server_uri = \"http://0.0.0.0:5000\" # set to your server URI\n",
    "mlflow.set_tracking_uri(remote_server_uri)  # or set the MLFLOW_TRACKING_URI in the env"
   ]
  },
  {
   "cell_type": "code",
   "execution_count": 6,
   "id": "056efd3f-0495-4961-bb6e-f0a28648dbe0",
   "metadata": {},
   "outputs": [
    {
     "data": {
      "text/plain": [
       "'http://0.0.0.0:5000'"
      ]
     },
     "execution_count": 6,
     "metadata": {},
     "output_type": "execute_result"
    }
   ],
   "source": [
    "mlflow.tracking.get_tracking_uri()"
   ]
  },
  {
   "cell_type": "code",
   "execution_count": 7,
   "id": "3ff72177-02a0-40f7-9482-12dd3c3e6346",
   "metadata": {},
   "outputs": [
    {
     "name": "stderr",
     "output_type": "stream",
     "text": [
      "2024/04/08 12:37:26 INFO mlflow.tracking.fluent: Experiment with name 'ElasticNet_wine' does not exist. Creating a new experiment.\n"
     ]
    },
    {
     "data": {
      "text/plain": [
       "<Experiment: artifact_location='/home/jayashree/MLflow-practice/mlruns/449568220051209506', creation_time=1712560046538, experiment_id='449568220051209506', last_update_time=1712560046538, lifecycle_stage='active', name='ElasticNet_wine', tags={}>"
      ]
     },
     "execution_count": 7,
     "metadata": {},
     "output_type": "execute_result"
    }
   ],
   "source": [
    "exp_name = \"ElasticNet_wine\"\n",
    "mlflow.set_experiment(exp_name)"
   ]
  },
  {
   "cell_type": "code",
   "execution_count": 10,
   "id": "ec3206e4-51e8-4277-b02f-7549b80e3de8",
   "metadata": {},
   "outputs": [],
   "source": [
    "def eval_metrics(actual, pred):\n",
    "    # compute relevant metrics\n",
    "    rmse = np.sqrt(mean_squared_error(actual, pred))\n",
    "    mae = mean_absolute_error(actual, pred)\n",
    "    r2 = r2_score(actual, pred)\n",
    "    return rmse, mae, r2\n",
    "\n",
    "\n",
    "def load_data(data_path):\n",
    "    data = pd.read_csv(data_path)\n",
    "\n",
    "    # Split the data into training and test sets. (0.75, 0.25) split.\n",
    "    train, test = train_test_split(data)\n",
    "\n",
    "    # The predicted column is \"quality\" which is a scalar from [3, 9]\n",
    "    train_x = train.drop([\"quality\"], axis=1)\n",
    "    test_x = test.drop([\"quality\"], axis=1)\n",
    "    train_y = train[[\"quality\"]]\n",
    "    test_y = test[[\"quality\"]]\n",
    "    return train_x, train_y, test_x, test_y\n",
    "\n",
    "\n",
    "def train(alpha=0.5, l1_ratio=0.5):\n",
    "    # train a model with given parameters\n",
    "    warnings.filterwarnings(\"ignore\")\n",
    "    np.random.seed(40)\n",
    "\n",
    "    # Read the wine-quality csv file (make sure you're running this from the root of MLflow!)\n",
    "    data_path = \"wine-quality.csv\"\n",
    "    train_x, train_y, test_x, test_y = load_data(data_path)\n",
    "\n",
    "    # Useful for multiple runs (only doing one run in this sample notebook)    \n",
    "    with mlflow.start_run():\n",
    "        # Execute ElasticNet\n",
    "        lr = ElasticNet(alpha=alpha, l1_ratio=l1_ratio, random_state=42)\n",
    "        lr.fit(train_x, train_y)\n",
    "\n",
    "        # Evaluate Metrics\n",
    "        predicted_qualities = lr.predict(test_x)\n",
    "        (rmse, mae, r2) = eval_metrics(test_y, predicted_qualities)\n",
    "\n",
    "        # Print out metrics\n",
    "        print(\"Elasticnet model (alpha=%f, l1_ratio=%f):\" % (alpha, l1_ratio))\n",
    "        print(\"  RMSE: %s\" % rmse)\n",
    "        print(\"  MAE: %s\" % mae)\n",
    "        print(\"  R2: %s\" % r2)\n",
    "\n",
    "        # Log parameter, metrics, and model to MLflow\n",
    "        mlflow.log_param(key=\"alpha\", value=alpha)\n",
    "        mlflow.log_param(key=\"l1_ratio\", value=l1_ratio)\n",
    "        mlflow.log_metric(key=\"rmse\", value=rmse)\n",
    "        mlflow.log_metrics({\"mae\": mae, \"r2\": r2})\n",
    "        mlflow.log_artifact(data_path)\n",
    "        print(\"Save to: {}\".format(mlflow.get_artifact_uri()))\n",
    "        \n",
    "        mlflow.sklearn.log_model(lr, \"model\")"
   ]
  },
  {
   "cell_type": "code",
   "execution_count": 11,
   "id": "24dbafa2-12c0-4532-bcb4-3f59f52ec206",
   "metadata": {},
   "outputs": [
    {
     "name": "stdout",
     "output_type": "stream",
     "text": [
      "Elasticnet model (alpha=0.500000, l1_ratio=0.500000):\n",
      "  RMSE: 0.82224284975954\n",
      "  MAE: 0.6278761410160691\n",
      "  R2: 0.12678721972772689\n",
      "Save to: /home/jayashree/MLflow-practice/mlruns/449568220051209506/7d934fac593b492fb467dd4d4db17786/artifacts\n"
     ]
    }
   ],
   "source": [
    "train(0.5, 0.5)"
   ]
  },
  {
   "cell_type": "code",
   "execution_count": 12,
   "id": "1d4f1b35-7028-4f52-802a-29e9055098c5",
   "metadata": {},
   "outputs": [
    {
     "name": "stdout",
     "output_type": "stream",
     "text": [
      "Elasticnet model (alpha=0.200000, l1_ratio=0.200000):\n",
      "  RMSE: 0.7859129997062342\n",
      "  MAE: 0.6155290394093895\n",
      "  R2: 0.2022463182289208\n",
      "Save to: /home/jayashree/MLflow-practice/mlruns/449568220051209506/9c099674167845f4b70aae81ba1a892f/artifacts\n"
     ]
    }
   ],
   "source": [
    "train(0.2, 0.2)"
   ]
  },
  {
   "cell_type": "code",
   "execution_count": 13,
   "id": "fb9e1f38-d801-4b04-9341-295ff7e19e61",
   "metadata": {},
   "outputs": [
    {
     "name": "stdout",
     "output_type": "stream",
     "text": [
      "Elasticnet model (alpha=0.100000, l1_ratio=0.100000):\n",
      "  RMSE: 0.7792546522251949\n",
      "  MAE: 0.6112547988118587\n",
      "  R2: 0.2157063843066196\n",
      "Save to: /home/jayashree/MLflow-practice/mlruns/449568220051209506/fac7fb6b24794afc96bb389014dd4897/artifacts\n"
     ]
    }
   ],
   "source": [
    "train(0.1, 0.1)"
   ]
  },
  {
   "cell_type": "code",
   "execution_count": 15,
   "id": "55745c77-1a52-4073-96bf-31611b9edc07",
   "metadata": {},
   "outputs": [
    {
     "name": "stdout",
     "output_type": "stream",
     "text": [
      "[<Experiment: artifact_location='/home/jayashree/MLflow-practice/mlruns/449568220051209506', creation_time=1712560046538, experiment_id='449568220051209506', last_update_time=1712560046538, lifecycle_stage='active', name='ElasticNet_wine', tags={}>, <Experiment: artifact_location='/home/jayashree/MLflow-practice/mlruns/0', creation_time=1712559941248, experiment_id='0', last_update_time=1712559941248, lifecycle_stage='active', name='Default', tags={}>]\n"
     ]
    }
   ],
   "source": [
    "from datetime import datetime\n",
    "from mlflow.tracking import MlflowClient\n",
    "\n",
    "client = MlflowClient()\n",
    "experiments = client.search_experiments() # returns a list of mlflow.entities.Experiment\n",
    "print(experiments)\n"
   ]
  },
  {
   "cell_type": "code",
   "execution_count": 17,
   "id": "102a7128-4abe-44d3-a799-22c3f9a9031e",
   "metadata": {},
   "outputs": [
    {
     "name": "stdout",
     "output_type": "stream",
     "text": [
      "<Run: data=<RunData: metrics={'mae': 0.6177463381374035,\n",
      " 'r2': 0.19042414117747386,\n",
      " 'rmse': 0.7917149365733894}, params={'alpha': '0.42', 'l1_ratio': '0.1'}, tags={'mlflow.gitRepoURL': 'git@github.com:JayashreeS11/MLflow-practice.git',\n",
      " 'mlflow.log-model.history': '[{\"run_id\": \"d88f3f5acc8241c99b0e79cc58fa778a\", '\n",
      "                             '\"artifact_path\": \"model\", \"utc_time_created\": '\n",
      "                             '\"2024-04-08 07:19:12.911862\", \"flavors\": '\n",
      "                             '{\"python_function\": {\"model_path\": \"model.pkl\", '\n",
      "                             '\"loader_module\": \"mlflow.sklearn\", '\n",
      "                             '\"python_version\": \"3.6.8\", \"env\": \"conda.yaml\"}, '\n",
      "                             '\"sklearn\": {\"pickled_model\": \"model.pkl\", '\n",
      "                             '\"sklearn_version\": \"0.21.3\", '\n",
      "                             '\"serialization_format\": \"cloudpickle\"}}, '\n",
      "                             '\"model_uuid\": '\n",
      "                             '\"1a2b48699a2b4fadb6f309a6b2737a77\"}]',\n",
      " 'mlflow.project.backend': 'local',\n",
      " 'mlflow.project.entryPoint': 'main',\n",
      " 'mlflow.project.env': 'conda',\n",
      " 'mlflow.runName': 'burly-hound-11',\n",
      " 'mlflow.source.git.commit': '6b26a1fc8bab92b643736a44440222ba9771f5be',\n",
      " 'mlflow.source.git.repoURL': 'git@github.com:JayashreeS11/MLflow-practice.git',\n",
      " 'mlflow.source.name': 'file:///home/jayashree/MLflow-practice',\n",
      " 'mlflow.source.type': 'PROJECT',\n",
      " 'mlflow.user': 'jayashree'}>, info=<RunInfo: artifact_uri='/home/jayashree/MLflow-practice/mlruns/0/d88f3f5acc8241c99b0e79cc58fa778a/artifacts', end_time=1712560753970, experiment_id='0', lifecycle_stage='active', run_id='d88f3f5acc8241c99b0e79cc58fa778a', run_name='burly-hound-11', run_uuid='d88f3f5acc8241c99b0e79cc58fa778a', start_time=1712560751304, status='FINISHED', user_id='jayashree'>, inputs=<RunInputs: dataset_inputs=[]>>\n"
     ]
    }
   ],
   "source": [
    "# get the run\n",
    "_run = client.get_run(run_id=\"d88f3f5acc8241c99b0e79cc58fa778a\")\n",
    "print(_run)"
   ]
  },
  {
   "cell_type": "code",
   "execution_count": 18,
   "id": "61695d2e-b937-45c1-a1c5-b9807e74ca89",
   "metadata": {},
   "outputs": [],
   "source": [
    "# add a tag to the run\n",
    "dt = datetime.now().strftime(\"%d-%m-%Y (%H:%M:%S.%f)\")\n",
    "client.set_tag(_run.info.run_id, \"deployed\", dt)"
   ]
  },
  {
   "cell_type": "code",
   "execution_count": null,
   "id": "8429cd42-341a-4eb6-b6ec-fc11a1851506",
   "metadata": {},
   "outputs": [],
   "source": []
  }
 ],
 "metadata": {
  "kernelspec": {
   "display_name": "Python 3 (ipykernel)",
   "language": "python",
   "name": "python3"
  },
  "language_info": {
   "codemirror_mode": {
    "name": "ipython",
    "version": 3
   },
   "file_extension": ".py",
   "mimetype": "text/x-python",
   "name": "python",
   "nbconvert_exporter": "python",
   "pygments_lexer": "ipython3",
   "version": "3.9.18"
  }
 },
 "nbformat": 4,
 "nbformat_minor": 5
}
